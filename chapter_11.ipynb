{
  "cells": [
    {
      "cell_type": "markdown",
      "metadata": {
        "id": "view-in-github",
        "colab_type": "text"
      },
      "source": [
        "<a href=\"https://colab.research.google.com/github/jaehwachung/Data-Analysis-with-Open-Source/blob/main/%EC%98%A4%ED%94%88%EC%86%8C%EC%8A%A4_%EB%8D%B0%EC%9D%B4%ED%84%B0_%EB%B6%84%EC%84%9D_11%EA%B0%95.ipynb\" target=\"_parent\"><img src=\"https://colab.research.google.com/assets/colab-badge.svg\" alt=\"Open In Colab\"/></a>"
      ]
    },
    {
      "cell_type": "markdown",
      "metadata": {
        "id": "Gt0ekRorz1fr"
      },
      "source": [
        "# 오픈소스 기반 데이터 분석 11강"
      ]
    },
    {
      "cell_type": "code",
      "execution_count": null,
      "metadata": {
        "id": "Dv9quf9tH3YB"
      },
      "outputs": [],
      "source": [
        "# 한글 처리를 위한 matplotlib 설정 (1)\n",
        "\n",
        "!sudo apt-get install -y fonts-nanum\n",
        "!sudo fc-cache –fv\n",
        "!rm ~/.cache/matplotlib -rf"
      ]
    },
    {
      "cell_type": "markdown",
      "metadata": {
        "id": "LQ98luNIH3YD"
      },
      "source": [
        "- 런타임 -> 세션 다시 시작"
      ]
    },
    {
      "cell_type": "code",
      "execution_count": null,
      "metadata": {
        "id": "iMxA6WqPH3YE"
      },
      "outputs": [],
      "source": [
        "# 한글 처리를 위한 matplotlib 설정 (2)\n",
        "\n",
        "import matplotlib.pyplot as plt\n",
        "plt.rc('font', family='NanumBarunGothic')"
      ]
    },
    {
      "cell_type": "markdown",
      "metadata": {
        "id": "XE1YAiDg03wb"
      },
      "source": [
        "# 그래프 스타일링 기법"
      ]
    },
    {
      "cell_type": "markdown",
      "metadata": {
        "id": "pxujyB2AH3YG"
      },
      "source": [
        "## 11-1 기본 색상 지정"
      ]
    },
    {
      "cell_type": "code",
      "execution_count": null,
      "metadata": {
        "id": "ElZcFBtnc1Og"
      },
      "outputs": [],
      "source": [
        "import matplotlib.pyplot as plt\n",
        "\n",
        "## 빨간색 선으로 그리기\n",
        "plt.plot([1,2,3],[2,4,1])\n",
        "plt.show()"
      ]
    },
    {
      "cell_type": "markdown",
      "metadata": {
        "id": "6HCboMZuH3YH"
      },
      "source": [
        "## 11-2 RGB 및 RGBA 색상 지정 예제"
      ]
    },
    {
      "cell_type": "code",
      "execution_count": null,
      "metadata": {
        "id": "xwkkLiW5c27E"
      },
      "outputs": [],
      "source": [
        "import matplotlib.pyplot as plt\n",
        "\n",
        "## 그래프 및 축 객체 생성\n",
        "fig, ax = plt.subplots(figsize=(6, 4))\n",
        "\n",
        "## RGB 및 RGBA 색상 정의 (마지막 값은 투명도)\n",
        "labels = ['Red', 'Green', 'Blue', 'Yellow', 'Cyan (Transparent)']\n",
        "colors = []\n",
        "\n",
        "## 막대 그래프 그리기 (정의된 색상 사용)\n",
        "ax.bar(labels, [5, 7, 6, 4, 8], color=colors)\n",
        "ax.set_title(\"RGB 및 RGBA 색상 예제\", fontsize=14)\n",
        "ax.set_xlabel(\"색상\", fontsize=12)\n",
        "ax.set_ylabel(\"값\", fontsize=12)\n",
        "\n",
        "plt.show()"
      ]
    },
    {
      "cell_type": "markdown",
      "metadata": {
        "id": "S-LS6mDXH3YK"
      },
      "source": [
        "## 11-3 Matplotlib 다양한 컬러맵 시각화"
      ]
    },
    {
      "cell_type": "code",
      "execution_count": null,
      "metadata": {
        "id": "p8okMHjCdAhs"
      },
      "outputs": [],
      "source": [
        "import matplotlib.pyplot as plt\n",
        "import numpy as np\n",
        "\n",
        "## 컬러맵 리스트\n",
        "colormaps = ['viridis', 'plasma', 'inferno', 'magma', 'cividis', 'Blues', 'Greens', 'Reds',\n",
        "              'Purples', 'Oranges', 'coolwarm', 'RdBu', 'coolwarm', 'Spectral', 'Set1',\n",
        "              'Set2', 'Set3', 'tab10', 'tab20', 'PiYG', 'twilight', 'hsv', 'terrain', 'ocean',\n",
        "              'gist_earth', 'hot', 'afmhot']\n",
        "\n",
        "## 그래프 크기 설정\n",
        "plt.figure(figsize=(8, len(colormaps) * 0.5))\n",
        "\n",
        "## 각 컬러맵 시각화\n",
        "for i, cmap in enumerate(colormaps):\n",
        "    gradient = np.linspace(0, 1, 256).reshape(1, -1)\n",
        "    plt.subplot(len(colormaps), 1, i + 1)\n",
        "    plt.imshow(gradient, aspect='auto', cmap=cmap)\n",
        "    plt.axis('off')\n",
        "    plt.title(cmap, fontsize=10, loc='left')\n",
        "\n",
        "plt.tight_layout()\n",
        "plt.show()"
      ]
    },
    {
      "cell_type": "markdown",
      "metadata": {
        "id": "yjbvAnVGH3YM"
      },
      "source": [
        "## 11-4 축, 레이블, 제목 설정"
      ]
    },
    {
      "cell_type": "code",
      "execution_count": null,
      "metadata": {
        "id": "Em85n0DddCXs"
      },
      "outputs": [],
      "source": [
        "import matplotlib.pyplot as plt\n",
        "\n",
        "## 데이터 정의\n",
        "months = ['1월', '2월', '3월', '4월', '5월', '6월']\n",
        "sales = [120, 150, 140, 170, 190, 210]\n",
        "\n",
        "## 그래프 그리기\n",
        "plt.figure(figsize=(8, 5))\n",
        "plt.plot(months, sales, 'o-', color='blue')\n",
        "\n",
        "## 축, 레이블, 제목 설정\n",
        "# x 축 제목 : 월\n",
        "\n",
        "# y 축 제목 : 매출(만원)\n",
        "\n",
        "# y 축 범위 (100 ~ 220)\n",
        "\n",
        "# 제목 : 2025년 상반기 월별 매출\n",
        "\n",
        "\n",
        "plt.grid(True)\n",
        "plt.show()"
      ]
    },
    {
      "cell_type": "markdown",
      "metadata": {
        "id": "OfnkdQZxH3YN"
      },
      "source": [
        "## 11-5 마커 및 선 스타일 설정"
      ]
    },
    {
      "cell_type": "code",
      "execution_count": null,
      "metadata": {
        "id": "1LmFpt67dHZc"
      },
      "outputs": [],
      "source": [
        "import matplotlib.pyplot as plt\n",
        "\n",
        "## 데이터 정의\n",
        "x = [1, 2, 3, 4, 5]\n",
        "y1 = [10, 2, 14, 16, 4]\n",
        "y2 = [8, 10, 12, 11, 13]\n",
        "y3 = [6, 9, 11, 10, 12]\n",
        "\n",
        "## 여러 선 그래프 그리기\n",
        "# y1, 마커 : o, 라인 스타일: -, 색: blue\n",
        "\n",
        "# y2, 마커 : s, 라인 스타일: --, 색: red\n",
        "\n",
        "# y3, 마커 : ^, 라인 스타일: -., 색: green\n",
        "\n",
        "\n",
        "## 제목 및 축 레이블 설정\n",
        "plt.title(\"여러 선 그래프 - 마커와 선 스타일 비교\")\n",
        "plt.xlabel(\"X축 값\")\n",
        "plt.ylabel(\"Y축 값\")\n",
        "\n",
        "plt.show()"
      ]
    },
    {
      "cell_type": "markdown",
      "source": [
        "## 11-6 범례 설정"
      ],
      "metadata": {
        "id": "q1v3LUpod-7p"
      }
    },
    {
      "cell_type": "code",
      "execution_count": null,
      "metadata": {
        "id": "UuCNvrEHdN2y"
      },
      "outputs": [],
      "source": [
        "import matplotlib.pyplot as plt\n",
        "\n",
        "## 데이터 정의\n",
        "x = [1, 2, 3, 4, 5]\n",
        "y1 = [10, 2, 14, 16, 4]\n",
        "y2 = [8, 10, 12, 11, 13]\n",
        "y3 = [6, 9, 11, 10, 12]\n",
        "\n",
        "## 여러 선 그래프 그리기\n",
        "plt.plot(x, y1, marker='o', linestyle='-', color='blue', label='데이터 1')\n",
        "plt.plot(x, y2, marker='s', linestyle='--', color='red', label='데이터 2')\n",
        "plt.plot(x, y3, marker='^', linestyle='-.', color='green', label='데이터 3')\n",
        "\n",
        "## 제목 및 축 레이블 설정\n",
        "plt.title(\"여러 선 그래프 - 마커와 선 스타일 비교\")\n",
        "plt.xlabel(\"X축 값\")\n",
        "plt.ylabel(\"Y축 값\")\n",
        "\n",
        "# 범례 추가\n",
        "\n",
        "plt.show()"
      ]
    },
    {
      "cell_type": "markdown",
      "source": [
        "## 11-7 주석 설정"
      ],
      "metadata": {
        "id": "-f5GUVVeeCUn"
      }
    },
    {
      "cell_type": "code",
      "execution_count": null,
      "metadata": {
        "id": "VXGIigH0dS7i"
      },
      "outputs": [],
      "source": [
        "import matplotlib.pyplot as plt\n",
        "\n",
        "## 데이터 정의\n",
        "x = [1, 2, 3, 4, 5]\n",
        "y1 = [10, 2, 14, 16, 4]\n",
        "y2 = [8, 10, 12, 11, 13]\n",
        "y3 = [6, 9, 11, 10, 12]\n",
        "\n",
        "## 여러 선 그래프 그리기\n",
        "plt.plot(x, y1, marker='o', linestyle='-', color='blue', label='데이터 1')\n",
        "plt.plot(x, y2, marker='s', linestyle='--', color='red', label='데이터 2')\n",
        "plt.plot(x, y3, marker='^', linestyle='-.', color='green', label='데이터 3')\n",
        "\n",
        "# 주석 추가\n",
        "# (2, 2) 위치에 Min Point 주석 추가\n",
        "\n",
        "## 제목 및 축 레이블 설정\n",
        "plt.title(\"여러 선 그래프 - 마커와 선 스타일 비교\")\n",
        "plt.xlabel(\"X축 값\")\n",
        "plt.ylabel(\"Y축 값\")\n",
        "\n",
        "# 범례 추가\n",
        "plt.legend()\n",
        "\n",
        "plt.show()"
      ]
    },
    {
      "cell_type": "markdown",
      "source": [
        "## 11-8 색상맵 설정"
      ],
      "metadata": {
        "id": "36yXH6ZzefYM"
      }
    },
    {
      "cell_type": "code",
      "execution_count": null,
      "metadata": {
        "id": "yu8DKEd3ddrg"
      },
      "outputs": [],
      "source": [
        "import matplotlib.pyplot as plt\n",
        "import numpy as np\n",
        "\n",
        "## 데이터 생성\n",
        "x = np.random.rand(100)\n",
        "y = np.random.rand(100)\n",
        "temperature = np.random.rand(100) * 30\n",
        "\n",
        "## 산점도 그리기\n",
        "# cmap 설정\n",
        "plt.scatter(x, y, c=temperature)\n",
        "# 컬러 바 추가\n",
        "\n",
        "plt.title(\"위치별 온도 분포\")\n",
        "plt.xlabel(\"x 좌표\")\n",
        "plt.ylabel(\"y 좌표\")\n",
        "plt.show()"
      ]
    },
    {
      "cell_type": "markdown",
      "source": [
        "# 고급 데이터 시각화 기법"
      ],
      "metadata": {
        "id": "w-pctqHHfGj-"
      }
    },
    {
      "cell_type": "markdown",
      "source": [
        "## 11-9 여러 그래프를 포함하는 서브플롯"
      ],
      "metadata": {
        "id": "Hsl5FK_6enat"
      }
    },
    {
      "cell_type": "code",
      "execution_count": null,
      "metadata": {
        "id": "TDQ4ggQzdf-e"
      },
      "outputs": [],
      "source": [
        "import matplotlib.pyplot as plt\n",
        "import numpy as np # numpy 임포트 추가\n",
        "\n",
        "## 서브플롯 생성 (2행 2열)\n",
        "\n",
        "\n",
        "## 첫 번째 서브플롯: 선 그래프\n",
        "axes[0, 0].plot([1, 2, 3, 4], [10, 20, 25, 30])\n",
        "axes[0, 0].set_title(\"선 그래프\")\n",
        "\n",
        "## 두 번째 서브플롯: 막대 그래프\n",
        "axes[0, 1].bar(['A', 'B', 'C', 'D'], [5, 7, 3, 8], color='orange')\n",
        "axes[0, 1].set_title(\"막대 그래프\")\n",
        "\n",
        "## 세 번째 서브플롯: 산점도\n",
        "axes[1, 0].scatter([1, 2, 3, 4], [15, 25, 10, 30], color='red')\n",
        "axes[1, 0].set_title(\"산점도 그래프\")\n",
        "\n",
        "## 네 번째 서브플롯: 히스토그램\n",
        "data = np.random.randn(100)\n",
        "axes[1, 1].hist(data, bins=10, color='purple')\n",
        "axes[1, 1].set_title(\"히스토그램\")\n",
        "\n",
        "## 레이아웃 조정 및 그래프 표시\n",
        "plt.tight_layout()\n",
        "plt.show()"
      ]
    },
    {
      "cell_type": "markdown",
      "source": [
        "## 11-10 3D 산점도"
      ],
      "metadata": {
        "id": "grHFowxAet5s"
      }
    },
    {
      "cell_type": "code",
      "execution_count": null,
      "metadata": {
        "id": "H0ppnG5idkSn"
      },
      "outputs": [],
      "source": [
        "import matplotlib.pyplot as plt\n",
        "import numpy as np\n",
        "from mpl_toolkits.mplot3d import Axes3D\n",
        "\n",
        "np.random.seed(42)\n",
        "x = np.random.rand(50)\n",
        "y = np.random.rand(50)\n",
        "z = np.random.rand(50)\n",
        "colors = x + y\n",
        "\n",
        "## 3D 그래프 설정\n",
        "fig = plt.figure(figsize=(8, 6))\n",
        "# 3d 프로젝션을 가지는 서브플롯 추가\n",
        "\n",
        "\n",
        "## 3D 산점도 그리기\n",
        "\n",
        "\n",
        "## 축 레이블 및 제목 설정\n",
        "ax.set_xlabel('X 축')\n",
        "ax.set_ylabel('Y 축')\n",
        "ax.set_zlabel('Z 축')\n",
        "ax.set_title('3D 산점도 예제')\n",
        "fig.colorbar(scatter, ax=ax, shrink=0.5, aspect=5)\n",
        "plt.show()"
      ]
    },
    {
      "cell_type": "markdown",
      "source": [
        "## 11-11 3D 표면 그래프"
      ],
      "metadata": {
        "id": "1v9RYoDte4kr"
      }
    },
    {
      "cell_type": "code",
      "execution_count": null,
      "metadata": {
        "id": "W-WkezeLdl7G"
      },
      "outputs": [],
      "source": [
        "import matplotlib.pyplot as plt\n",
        "from mpl_toolkits.mplot3d import Axes3D\n",
        "import numpy as np\n",
        "\n",
        "## 데이터 생성 (X, Y 그리드 및 Z 값)\n",
        "x = np.linspace(-5, 5, 50)\n",
        "y = np.linspace(-5, 5, 50)\n",
        "X, Y = np.meshgrid(x, y)\n",
        "Z = np.sin(np.sqrt(X**2 + Y**2))\n",
        "\n",
        "## 3D 그래프 설정\n",
        "fig = plt.figure(figsize=(8, 6))\n",
        "ax = fig.add_subplot(projection='3d')\n",
        "\n",
        "## 3D 표면 그래프 그리기\n",
        "\n",
        "\n",
        "## 축 레이블 및 제목 설정\n",
        "ax.set_xlabel('X 축')\n",
        "ax.set_ylabel('Y 축')\n",
        "ax.set_zlabel('Z 축(높이)')\n",
        "ax.set_title('3D 표면 그래프 예제')\n",
        "fig.colorbar(surface, ax=ax, shrink=0.5, aspect=5) ## 컬러바 추가\n",
        "plt.show()"
      ]
    },
    {
      "cell_type": "markdown",
      "source": [
        "## 11-12 Plotly 인터랙티브 시각화"
      ],
      "metadata": {
        "id": "FMF9CJZ-fRcd"
      }
    },
    {
      "cell_type": "code",
      "execution_count": null,
      "metadata": {
        "id": "TEEMN4zZdoMk"
      },
      "outputs": [],
      "source": [
        "import plotly.express as px\n",
        "import pandas as pd\n",
        "\n",
        "## 데이터프레임 생성\n",
        "df = pd.DataFrame({\n",
        "    'X값': [1, 2, 3, 4, 5],\n",
        "    'Y값': [10, 14, 18, 24, 30]\n",
        "})\n",
        "\n",
        "## 인터랙티브 산점도 생성 및 표시\n"
      ]
    },
    {
      "cell_type": "markdown",
      "source": [
        "## 11-13 Bokeh 인터랙티브 선 시각화"
      ],
      "metadata": {
        "id": "BtiKeWfWfbxb"
      }
    },
    {
      "cell_type": "code",
      "execution_count": null,
      "metadata": {
        "id": "u69gXfYXdp-M"
      },
      "outputs": [],
      "source": [
        "from bokeh.plotting import figure, show\n",
        "from bokeh.models import ColumnDataSource, HoverTool\n",
        "from bokeh.io import output_notebook\n",
        "import pandas as pd\n",
        "\n",
        "output_notebook( )\n",
        "\n",
        "## 데이터프레임 생성\n",
        "df = pd.DataFrame({\n",
        "    '날짜': pd.date_range(start='2023-01-01', periods=10, freq='D'),\n",
        "    '매출': [200, 300, 250, 400, 500, 450, 600, 700, 650, 800],\n",
        "    '지점': ['A'] * 10 })\n",
        "df['날짜'] = pd.to_datetime(df['날짜'])\n",
        "source = ColumnDataSource(df)\n",
        "\n",
        "## 그래프 객체 생성\n",
        "p = figure( x_axis_type='datetime', title='Bokeh 고급 인터랙티브 선 그래프',\n",
        "           width=700, height=400, tools=\"pan,wheel_zoom,box_zoom,reset,save\" )\n",
        "\n",
        "## 선 그래프 추가\n",
        "p.line( '날짜', '매출', source=source, line_width=3, color='navy',\n",
        "       legend_label='A 지점 매출' )\n",
        "\n",
        "## HoverTool 추가\n",
        "hover = HoverTool( tooltips=[ (\"지점\", \"@지점\"),\n",
        "        (\"날짜\", \"@날짜{%F}\"),\n",
        "        (\"매출\", \"@매출{0,0}원\")],\n",
        "    formatters={ '@날짜': 'datetime' },\n",
        "    mode='mouse')\n",
        "\n",
        "p.add_tools(hover)\n",
        "p.legend.title = '지점 정보'\n",
        "p.legend.label_text_font_size = '12pt'\n",
        "show(p)"
      ]
    },
    {
      "cell_type": "markdown",
      "metadata": {
        "id": "XOiyzW3c1CfD"
      },
      "source": [
        "## 개념 실습 정리 2\n",
        "\n",
        "- 온라인 쇼핑몰의 판매 데이터를 분석하고 시각적으로 표현\n",
        "\n",
        "- [영국 기반의 온라인 소매업체 데이터를 활용](https://archive.ics.uci.edu/dataset/352/online+retail)함\n",
        "  - 이 데이터셋은 2010년 1월 12일부터 2011년 12월 9일 까지의 약 1년간의 거래 기록을 포함"
      ]
    },
    {
      "cell_type": "markdown",
      "source": [
        "1. 데이터 준비 (다운로드 및 로드)"
      ],
      "metadata": {
        "id": "SnAXs9Y4gBdm"
      }
    },
    {
      "cell_type": "code",
      "execution_count": null,
      "metadata": {
        "id": "ssKLal-GdsDc"
      },
      "outputs": [],
      "source": [
        "import pandas as pd\n",
        "\n",
        "## 데이터셋 URL 정의\n",
        "url = \"https://archive.ics.uci.edu/ml/machine-learning-databases/00352/Online%20Retail.xlsx\"\n",
        "\n",
        "## 데이터셋 로드\n",
        "retail_data = pd.read_excel(url)\n",
        "\n",
        "## 데이터셋 크기 출력\n",
        "print(\"데이터셋 크기:\", retail_data.shape)\n",
        "\n",
        "## 첫 5개 행 출력\n",
        "print(\"\\n첫 5개 행:\")\n",
        "print(retail_data.head())\n",
        "\n",
        "## 데이터 정보 출력\n",
        "print(\"\\n데이터 정보:\")\n",
        "print(retail_data.info())\n",
        "\n",
        "## 기술 통계 요약 출력\n",
        "print(retail_data.describe().to_markdown())"
      ]
    },
    {
      "cell_type": "markdown",
      "source": [
        "2. 데이터 전처리"
      ],
      "metadata": {
        "id": "Y9TVVy_OgB6E"
      }
    },
    {
      "cell_type": "code",
      "execution_count": null,
      "metadata": {
        "id": "jtId5Roedu0l"
      },
      "outputs": [],
      "source": [
        "## CustomerID가 없는 행 제거\n",
        "retail_data_clean = retail_data.dropna(subset=['CustomerID'])\n",
        "## 중복된 행 제거\n",
        "retail_data_clean = retail_data_clean.drop_duplicates()\n",
        "## 수량(Quantity)과 단가(UnitPrice)가 0보다 큰 유효한 데이터만 필터링\n",
        "retail_data_clean = retail_data_clean[(retail_data_clean['Quantity'] > 0) &\n",
        "                                      (retail_data_clean['UnitPrice'] > 0)]\n",
        "\n",
        "## 총 가격(TotalPrice) 컬럼 생성\n",
        "retail_data_clean['TotalPrice'] = retail_data_clean['Quantity'] * retail_data_clean['UnitPrice']\n",
        "\n",
        "## InvoiceDate에서 시간 관련 특성 추출\n",
        "retail_data_clean['Year'] = retail_data_clean['InvoiceDate'].dt.year\n",
        "retail_data_clean['Month'] = retail_data_clean['InvoiceDate'].dt.month\n",
        "retail_data_clean['Day'] = retail_data_clean['InvoiceDate'].dt.day\n",
        "retail_data_clean['DayOfWeek'] = retail_data_clean['InvoiceDate'].dt.dayofweek\n",
        "retail_data_clean['Hour'] = retail_data_clean['InvoiceDate'].dt.hour\n",
        "\n",
        "## 전처리 후 데이터 크기 및 첫 5개 행 출력\n",
        "print(\"\\n전처리 후 데이터 크기:\", retail_data_clean.shape)\n",
        "print(\"\\n전처리 후 첫 5개 행:\")\n",
        "print(retail_data_clean.head())"
      ]
    },
    {
      "cell_type": "markdown",
      "source": [
        "3. RFM 분석 및 3D 시각화\n",
        "\n"
      ],
      "metadata": {
        "id": "JvS7xY8ygI49"
      }
    },
    {
      "cell_type": "code",
      "execution_count": null,
      "metadata": {
        "id": "reZ3-D7td2Li"
      },
      "outputs": [],
      "source": [
        "import matplotlib.pyplot as plt\n",
        "import seaborn as sns\n",
        "import pandas as pd\n",
        "from mpl_toolkits.mplot3d import Axes3D\n",
        "\n",
        "## RFM (Recency, Frequency, Monetary) 지표 계산\n",
        "## 최근성(Recency): 마지막 구매일로부터 경과한 일수\n",
        "## 빈도(Frequency): 총 구매 횟수\n",
        "## 총 지출액(Monetary): 총 지출 금액\n",
        "max_date = retail_data_clean['InvoiceDate'].max() + pd.Timedelta(days=1)\n",
        "\n",
        "rfm = retail_data_clean.groupby('CustomerID').agg({\n",
        "    'InvoiceDate': lambda x: (max_date - x.max()).days,\n",
        "    'InvoiceNo': 'nunique',\n",
        "    'TotalPrice': 'sum'\n",
        "}).reset_index()\n",
        "\n",
        "rfm.columns = ['CustomerID', 'Recency', 'Frequency', 'Monetary']\n",
        "\n",
        "## 3D 그래프 설정\n",
        "fig = plt.figure(figsize=(12, 10))\n",
        "ax = fig.add_subplot(111, projection='3d')\n",
        "\n",
        "## 3D 산점도로 RFM 데이터 시각화\n",
        "# x: recency, y: frequency, z: monetary\n",
        "# monetary 값에 따라 색상 변화\n",
        "\n",
        "\n",
        "## 각 점에 수직선 추가 (바닥면까지)\n",
        "for i in range(len(rfm)):\n",
        "    x = rfm['Recency'].iloc[i]\n",
        "    y = rfm['Frequency'].iloc[i]\n",
        "    z = rfm['Monetary'].iloc[i]\n",
        "    ax.plot([x, x], [y, y], [0, z], color='gray', alpha=0.2)\n",
        "\n",
        "## 축 레이블 설정\n",
        "ax.set_xlabel('최근성 (일)', fontsize=12)\n",
        "ax.set_ylabel('구매 빈도 (회)', fontsize=12)\n",
        "ax.set_zlabel('총 지출액 (£)', fontsize=12)\n",
        "\n",
        "## 컬러바 추가\n",
        "plt.colorbar(scatter, ax=ax, pad=0.1, label='총 지출액 (£)')\n",
        "\n",
        "## 그래프 제목 설정\n",
        "plt.title('3D RFM 분석: 고객 세그먼트 시각화', fontsize=15)\n",
        "plt.show()"
      ]
    },
    {
      "cell_type": "markdown",
      "source": [
        "4. 제품 가격과 판매량의 관계 (산점도 + 회귀선)"
      ],
      "metadata": {
        "id": "5L9cXFr_giBH"
      }
    },
    {
      "cell_type": "code",
      "execution_count": null,
      "metadata": {
        "id": "F7mlNqKFd3rC"
      },
      "outputs": [],
      "source": [
        "## 제품별 평균 단가 및 총 판매량 계산\n",
        "product_price_quantity = retail_data_clean.groupby('StockCode').agg({\n",
        "    'UnitPrice': 'mean',\n",
        "    'Quantity': 'sum'\n",
        "}).reset_index()\n",
        "\n",
        "## 이상치 제거 (가격 100 미만, 판매량 10000 미만)\n",
        "filtered_products = product_price_quantity[\n",
        "  (product_price_quantity['UnitPrice'] < 100) &\n",
        "  (product_price_quantity['Quantity'] < 10000)\n",
        "]\n",
        "\n",
        "## 가격과 판매량의 관계 시각화 (회귀선 포함 산점도)\n",
        "plt.figure(figsize=(12, 8))\n",
        "# seaborn의 regplot을 이용하여 회귀선 포함 산점도를 출력\n",
        "\n",
        "\n",
        "## 그래프 제목 및 축 레이블 설정\n",
        "plt.title('제품 가격과 판매량의 관계', fontsize=15)\n",
        "plt.xlabel('평균 단가 (£)', fontsize=12)\n",
        "plt.ylabel('총 판매량', fontsize=12)\n",
        "plt.ylim(-1000, None) ## y축 시작점 설정\n",
        "plt.grid(linestyle='--') ## 그리드 추가\n",
        "plt.show()"
      ]
    },
    {
      "cell_type": "markdown",
      "source": [
        "5. 월별 및 국가별 매출 추이 (스택 영역 그래프)"
      ],
      "metadata": {
        "id": "wFBfpNFagsww"
      }
    },
    {
      "cell_type": "code",
      "execution_count": null,
      "metadata": {
        "id": "lxVRLy3ad5ky"
      },
      "outputs": [],
      "source": [
        "## 국가별 총 매출 계산 및 상위 5개국 추출\n",
        "country_sales = retail_data_clean.groupby('Country')['TotalPrice'].sum().reset_index()\n",
        "top5_countries = country_sales.sort_values('TotalPrice', ascending=False).head(5)['Country']\n",
        "\n",
        "## 상위 5개국의 월별 매출 데이터 필터링 및 집계\n",
        "monthly_country_sales = retail_data_clean[retail_data_clean['Country'].isin(top5_countries)]\n",
        "monthly_country_sales = monthly_country_sales.groupby(['Year', 'Month', 'Country'])['TotalPrice'].sum().reset_index()\n",
        "monthly_country_sales['YearMonth'] = monthly_country_sales['Year'].astype(str) + '-' + \\\n",
        "                                      monthly_country_sales['Month'].astype(str).str.zfill(2) ## 연월 문자열 생성\n",
        "\n",
        "## 피벗 테이블 생성 (월별 국가별 매출)\n",
        "pivot_data = monthly_country_sales.pivot_table(\n",
        "    index='YearMonth',\n",
        "    columns='Country',\n",
        "    values='TotalPrice',\n",
        "    fill_value=0 ## 값이 없는 경우 0으로 채움\n",
        ")\n",
        "\n",
        "## 스택 영역 그래프 시각화\n",
        "plt.figure(figsize=(14, 8))\n",
        "# pivot_data를 이용하여 영역 그래프를 시각화\n",
        "\n",
        "\n",
        "## 그래프 제목 및 축 레이블 설정\n",
        "plt.title('월별 및 국가별 매출 추이 (상위 5개국)', fontsize=15)\n",
        "plt.xlabel('연월', fontsize=12)\n",
        "plt.ylabel('총 매출(£)', fontsize=12)\n",
        "plt.legend(title='국가') ## 범례 제목 설정\n",
        "plt.grid(linestyle='--') ## 그리드 추가\n",
        "plt.show()"
      ]
    },
    {
      "cell_type": "markdown",
      "source": [
        "6. 종합 대시보드 구성"
      ],
      "metadata": {
        "id": "jUW3V9Idg7sc"
      }
    },
    {
      "cell_type": "code",
      "execution_count": null,
      "metadata": {
        "id": "3TkioCO5d8DC"
      },
      "outputs": [],
      "source": [
        "import matplotlib.pyplot as plt\n",
        "import pandas as pd # retail_data_clean 사용을 위해 pd 임포트 확인\n",
        "\n",
        "## 월별 총 매출 데이터 준비\n",
        "monthly_sales = retail_data_clean.groupby(['Year', 'Month'])['TotalPrice'].sum().reset_index()\n",
        "monthly_sales['YearMonth'] = monthly_sales['Year'].astype(str) + '-' + monthly_sales['Month'].astype(str)\n",
        "\n",
        "## 국가별 매출 상위 5개국 데이터 준비\n",
        "country_sales = retail_data_clean.groupby('Country')['TotalPrice'].sum().reset_index()\n",
        "top_countries = country_sales.sort_values('TotalPrice', ascending=False).head(5)\n",
        "\n",
        "## 전체 대시보드 figure 설정\n",
        "fig = plt.figure(figsize=(15, 12))\n",
        "plt.subplots_adjust(hspace=0.4, wspace=0.4) ## 서브플롯 간 간격 조정\n",
        "\n",
        "day_names = ['월요일', '화요일', '수요일', '목요일', '금요일', '토요일', '일요일']\n",
        "\n",
        "## 첫 번째 서브플롯: 월별 총 매출 추이 (선 그래프)\n",
        "ax1 = plt.subplot2grid((2, 2), (0, 0))\n",
        "ax1.plot(monthly_sales['YearMonth'], monthly_sales['TotalPrice'],\n",
        "         marker='o', linestyle='-')\n",
        "ax1.set_title('월별 총 매출 추이', fontsize=12)\n",
        "ax1.set_xlabel('연월', fontsize=10)\n",
        "ax1.set_ylabel('총 매출(£)', fontsize=10)\n",
        "ax1.tick_params(axis='x', rotation=45)\n",
        "ax1.grid(True, linestyle='--', alpha=0.7)\n",
        "\n",
        "## 두 번째 서브플롯: 국가별 매출 비중 (파이 차트)\n",
        "ax2 = plt.subplot2grid((2, 2), (0, 1))\n",
        "ax2.pie(top_countries['TotalPrice'], labels=top_countries['Country'].head(5), autopct='%1.1f%%')\n",
        "ax2.set_title('국가별 매출 비중 (상위 5개국)', fontsize=12)\n",
        "ax2.axis('equal') ## 원형 파이 차트를 위해 비율을 같게 설정\n",
        "\n",
        "## 세 번째 서브플롯: 요일별 주문 수 (막대 그래프)\n",
        "ax3 = plt.subplot2grid((2, 2), (1, 0))\n",
        "day_orders = retail_data_clean.groupby('DayOfWeek').size()\n",
        "day_orders.index = [day_names[i] for i in day_orders.index]\n",
        "ax3.bar(day_orders.index, day_orders.values, color='#2ecc71')\n",
        "ax3.set_title('요일별 주문 수', fontsize=12)\n",
        "ax3.set_xlabel('요일', fontsize=10)\n",
        "ax3.set_ylabel('주문 수', fontsize=10)\n",
        "ax3.tick_params(axis='x', rotation=45)\n",
        "\n",
        "## 네 번째 서브플롯: 제품 가격 분포 (히스토그램)\n",
        "ax4 = plt.subplot2grid((2, 2), (1, 1))\n",
        "ax4.hist(retail_data_clean['UnitPrice'], bins=30, color='#9b59b6', alpha=0.7)\n",
        "ax4.set_title('제품 가격 분포', fontsize=12)\n",
        "ax4.set_xlabel('단가(£)', fontsize=10)\n",
        "ax4.set_ylabel('빈도', fontsize=10)\n",
        "\n",
        "## 전체 대시보드 제목\n",
        "plt.suptitle('온라인 쇼핑몰 판매 데이터 대시보드', fontsize=16)\n",
        "plt.show()"
      ]
    }
  ],
  "metadata": {
    "colab": {
      "provenance": [],
      "include_colab_link": true
    },
    "kernelspec": {
      "display_name": "Python 3",
      "name": "python3"
    },
    "language_info": {
      "name": "python"
    }
  },
  "nbformat": 4,
  "nbformat_minor": 0
}