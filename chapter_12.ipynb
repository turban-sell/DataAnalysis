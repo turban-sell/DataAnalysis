{
  "nbformat": 4,
  "nbformat_minor": 0,
  "metadata": {
    "colab": {
      "provenance": [],
      "gpuType": "T4",
      "include_colab_link": true
    },
    "kernelspec": {
      "name": "python3",
      "display_name": "Python 3"
    },
    "language_info": {
      "name": "python"
    },
    "accelerator": "GPU"
  },
  "cells": [
    {
      "cell_type": "markdown",
      "metadata": {
        "id": "view-in-github",
        "colab_type": "text"
      },
      "source": [
        "<a href=\"https://colab.research.google.com/github/jaehwachung/Data-Analysis-with-Open-Source/blob/main/%EC%98%A4%ED%94%88%EC%86%8C%EC%8A%A4_%EB%8D%B0%EC%9D%B4%ED%84%B0_%EB%B6%84%EC%84%9D_12%EA%B0%95.ipynb\" target=\"_parent\"><img src=\"https://colab.research.google.com/assets/colab-badge.svg\" alt=\"Open In Colab\"/></a>"
      ]
    },
    {
      "cell_type": "markdown",
      "source": [
        "# 12강 정형 데이터 분석 : 서울시 공공 자전거 데이터 활용\n",
        "\n",
        "### 목표\n",
        "\n",
        "공공 자전거 이용 특성을 파악하고, 날씨와 자전거 이용량의 상관관계를 분석하여 데이터 기반의 정책 수립에 필요한 인사이트를 도출\n",
        "\n",
        "### 분석 프로세스 개요\n",
        "\n",
        "1. 데이터 수집 및 전처리\n",
        "  - CSV 형태의 데이터 수집\n",
        "  - 기초 통계량 산출\n",
        "  - 결측치 처리 및 이상치 제거\n",
        "  - 날짜/시간 데이터 형식 변환\n",
        "2. 데이터 분석\n",
        "  - 시계열 패턴 분석\n",
        "3. 연계 분석\n",
        "  - 강수량 데이터와의 연계 분석\n",
        "  - 상관관계 분석\n",
        "  - 정책 제언으로 연결"
      ],
      "metadata": {
        "id": "EZhL8Dh2fXOv"
      }
    },
    {
      "cell_type": "code",
      "source": [
        "# 한글 처리를 위한 matplotlib 설정 (1)\n",
        "\n",
        "!sudo apt-get install -y fonts-nanum\n",
        "!sudo fc-cache –fv\n",
        "!rm ~/.cache/matplotlib -rf"
      ],
      "metadata": {
        "id": "MX4krAdHjx2Y"
      },
      "execution_count": null,
      "outputs": []
    },
    {
      "cell_type": "markdown",
      "source": [
        "- 런타임 -> 세션 다시 시작"
      ],
      "metadata": {
        "id": "UO0Qyqdnj1e9"
      }
    },
    {
      "cell_type": "code",
      "source": [
        "# 한글 처리를 위한 matplotlib 설정 (2)\n",
        "\n",
        "import matplotlib.pyplot as plt\n",
        "plt.rc('font', family='NanumBarunGothic')"
      ],
      "metadata": {
        "id": "oGHdeZdNj2CY"
      },
      "execution_count": null,
      "outputs": []
    },
    {
      "cell_type": "markdown",
      "source": [
        "# 1. 데이터 수집 및 전처리"
      ],
      "metadata": {
        "id": "BMJzw0zqmOa8"
      }
    },
    {
      "cell_type": "markdown",
      "source": [
        "### 12-1 따릉이 대역 기록 2023-04 업로드 및 압축 해제\n",
        "\n",
        "- 따릉이 데이터 다운로드\n",
        "  - [서울 열린데이터 광장](https://data.seoul.go.kr)\n",
        "  - 검색어 : 따릉이\n",
        "  - 서울시 따릉이 대여소별 대여/반납 승객수 정보\n",
        "  - 2023-04 다운로드 후 업로드"
      ],
      "metadata": {
        "id": "_eBHEQ-bjS43"
      }
    },
    {
      "cell_type": "code",
      "source": [
        "!unzip tpss_bcycl_od_statnhm_202304.zip -d tpss_bcycl_od_statnhm_202304"
      ],
      "metadata": {
        "id": "DHqKgEYFjPoG"
      },
      "execution_count": null,
      "outputs": []
    },
    {
      "cell_type": "markdown",
      "source": [
        "## 12-2 CSV 형태의 데이터 수집"
      ],
      "metadata": {
        "id": "mBY1ywBTfQdD"
      }
    },
    {
      "cell_type": "code",
      "execution_count": null,
      "metadata": {
        "id": "7jjkoE6h-TJs"
      },
      "outputs": [],
      "source": [
        "import glob\n",
        "import pandas as pd\n",
        "\n",
        "## CSV 파일 목록 가져오기\n",
        "all_files = glob.glob(\"tpss_bcycl_od_statnhm_202304/*.csv\")\n",
        "dataframes = []\n",
        "for filename in all_files:\n",
        "    ## CSV 파일 읽어서 데이터프레임화\n",
        "\n",
        "    dataframes.append(df)\n",
        "## 모든 데이터프레임 결합\n",
        "\n",
        "## 상위 5행 출력\n",
        "df.head(5)"
      ]
    },
    {
      "cell_type": "markdown",
      "source": [
        "## 12-3 기초 통계량 산출"
      ],
      "metadata": {
        "id": "pGV2kMLehS0A"
      }
    },
    {
      "cell_type": "code",
      "source": [
        "## 수치형 데이터 요약 통계 출력\n",
        "\n",
        "## 범주형 데이터 요약 통계 출력\n"
      ],
      "metadata": {
        "id": "HyFk8Gry-VpH"
      },
      "execution_count": null,
      "outputs": []
    },
    {
      "cell_type": "markdown",
      "source": [
        "## 12-4 결측치 및 이상치 제거"
      ],
      "metadata": {
        "id": "Thr9L43ShZcY"
      }
    },
    {
      "cell_type": "code",
      "source": [
        "## 결측치 제거\n",
        "\n",
        "## '전체_이용_분' 컬럼 값 필터링 (1분 이하, 180분 이상 제거)\n",
        "\n",
        "## '전체_이용_거리' 컬럼 값 필터링 (10M 이하, 10000M 이상 제거)\n",
        "\n",
        "## '집계_기준' 컬럼 필터링 (출발시간만 사용)\n"
      ],
      "metadata": {
        "id": "fJRGIq2N-XLc"
      },
      "execution_count": null,
      "outputs": []
    },
    {
      "cell_type": "markdown",
      "source": [
        "## 12-5 날짜/시간 데이터 형식 변환"
      ],
      "metadata": {
        "id": "aWeXyEB-h5dA"
      }
    },
    {
      "cell_type": "code",
      "source": [
        "## '기준_날짜' 컬럼 datetime 형식으로 변환 (%Y%m%d)\n",
        "\n",
        "## '요일' 컬럼 생성\n",
        "day_mapping = {\n",
        "    'Monday': '월요일',\n",
        "    'Tuesday': '화요일',\n",
        "    'Wednesday': '수요일',\n",
        "    'Thursday': '목요일',\n",
        "    'Friday': '금요일',\n",
        "    'Saturday': '토요일',\n",
        "    'Sunday': '일요일'\n",
        "}\n"
      ],
      "metadata": {
        "id": "4UsXZZVa-Zps"
      },
      "execution_count": null,
      "outputs": []
    },
    {
      "cell_type": "markdown",
      "source": [
        "## 전처리 결과 확인"
      ],
      "metadata": {
        "id": "qEYjnQmVoBXx"
      }
    },
    {
      "cell_type": "code",
      "source": [
        "## 수치형 데이터 요약 통계 출력\n",
        "print(\"수치형 데이터 요약 통계:\\n\", df.describe().to_markdown())\n",
        "## 범주형 데이터 요약 통계 출력\n",
        "print(\"\\n범주형 데이터 요약 통계:\\n\", df.describe(include=['object']).to_markdown())"
      ],
      "metadata": {
        "id": "3XX8cDDAoDC8"
      },
      "execution_count": null,
      "outputs": []
    },
    {
      "cell_type": "markdown",
      "source": [
        "# 2. 데이터 분석"
      ],
      "metadata": {
        "id": "iSQra0QGmR09"
      }
    },
    {
      "cell_type": "markdown",
      "source": [
        "## 12-6 요일별 이용량 분석"
      ],
      "metadata": {
        "id": "8OPIRXDMmZom"
      }
    },
    {
      "cell_type": "code",
      "source": [
        "## 요일별 이용량 계산 및 정렬\n",
        "\n",
        "## 요일별 이용량 출력\n",
        "print(\"요일별 이용량:\\n\", day_df)"
      ],
      "metadata": {
        "id": "9u1beOH7iEFO"
      },
      "execution_count": null,
      "outputs": []
    },
    {
      "cell_type": "markdown",
      "source": [
        "## 12-7 요일별 이용량 시각화"
      ],
      "metadata": {
        "id": "9rm8rfc2nApd"
      }
    },
    {
      "cell_type": "code",
      "source": [
        "import matplotlib.pyplot as plt\n",
        "\n",
        "## 요일별 이용량 막대 그래프 생성\n",
        "\n",
        "plt.title('요일별 이용량')\n",
        "plt.xlabel('요일')\n",
        "plt.ylabel('이용량')\n",
        "plt.show()"
      ],
      "metadata": {
        "id": "2YTL201E-bOk"
      },
      "execution_count": null,
      "outputs": []
    },
    {
      "cell_type": "code",
      "source": [
        "## Dataframe의 plot을 이용한 요일별 이용량 막대 그래프 생성\n",
        "\n",
        "plt.show()"
      ],
      "metadata": {
        "id": "1D3QdpSpnWzK"
      },
      "execution_count": null,
      "outputs": []
    },
    {
      "cell_type": "markdown",
      "source": [
        "## 12-8 시간별 이용량 분석 및 시각화"
      ],
      "metadata": {
        "id": "SrTThRtknQhJ"
      }
    },
    {
      "cell_type": "code",
      "source": [
        "## '출발_시' 컬럼 생성 (기준_시간대 // 100)\n",
        "\n",
        "## 시간별 이용량 계산 및 정렬 (hour_df로 저장)\n",
        "\n",
        "## 시간별 이용량 출력\n",
        "print(\"시간별 이용량:\\n\", hour_df)\n",
        "\n",
        "## 시간별 이용량 막대 그래프 생성\n",
        "hour_df.plot(kind='bar')\n",
        "plt.show()"
      ],
      "metadata": {
        "id": "rh5XUH2i-epE"
      },
      "execution_count": null,
      "outputs": []
    },
    {
      "cell_type": "markdown",
      "source": [
        "## 12-9 일자별 이용량 분석 및 시각화"
      ],
      "metadata": {
        "id": "MCesHLfcnyZ2"
      }
    },
    {
      "cell_type": "code",
      "source": [
        "## 일자별 이용량 계산 및 정렬\n",
        "daily_usage_df = df['기준_날짜'].value_counts().sort_index()\n",
        "## 일자별 이용량 출력\n",
        "print(\"일자별 이용량:\\n\", daily_usage_df)\n",
        "\n",
        "## 일자별 이용량 막대 그래프 생성\n",
        "daily_usage_df.plot(kind='bar')\n",
        "plt.show()"
      ],
      "metadata": {
        "id": "FBGzRjUW-gky"
      },
      "execution_count": null,
      "outputs": []
    },
    {
      "cell_type": "markdown",
      "source": [
        "# 3. 연계 분석\n",
        "\n",
        "- 기상청 기상자료개방포탈 자료 수집\n",
        "  - 기후통계분석 > 통계분석 > 조건별통계\n",
        "  - https://data.kma.go.kr/climate/RankState/selectRankStatisticsDivisionList.do?pgmNo=179\n",
        "  - 지역/지점 : 서울\n",
        "  - 요소 : 강수량\n",
        "  - 기간 : 일, 2023년 ~ 2023년\n",
        "  - 조건 : 04월, 01 ~ 31일\n",
        "- 다운로드 후 파일명 `seoul_rain_2023_04.csv`로 변경하여 colab에 업로드"
      ],
      "metadata": {
        "id": "Ry_x0v7voNji"
      }
    },
    {
      "cell_type": "markdown",
      "source": [
        "## 12-10 강수량 데이터 로드"
      ],
      "metadata": {
        "id": "7H4slHEnpY2U"
      }
    },
    {
      "cell_type": "code",
      "source": [
        "## 강수량 데이터 CSV 파일 로드\n",
        "file_path = 'seoul_rain_2023_04.csv'\n",
        "rain_df = pd.read_csv(file_path, encoding='cp949', skiprows=12)\n",
        "rain_df.head(5)"
      ],
      "metadata": {
        "id": "qJLVSTEM-kgi"
      },
      "execution_count": null,
      "outputs": []
    },
    {
      "cell_type": "markdown",
      "source": [
        "## 12-11 강수량 데이터 전처리"
      ],
      "metadata": {
        "id": "w9T_mFxEpd-e"
      }
    },
    {
      "cell_type": "code",
      "source": [
        "## '일시' 컬럼 datetime 형식으로 변환\n",
        "rain_df['일시'] = pd.to_datetime(rain_df['일시'], format='%Y-%m-%d')\n",
        "## '강수량(mm)' 컬럼 결측치 0으로 채우기\n",
        "\n",
        "## 불필요한 컬럼 제거\n",
        "rain_df.drop(columns=['\\t지점번호', 'Unnamed: 6'], inplace=True)"
      ],
      "metadata": {
        "id": "n-gYb7AA-lnq"
      },
      "execution_count": null,
      "outputs": []
    },
    {
      "cell_type": "markdown",
      "source": [
        "## 12-12 일자별 이용량 데이터와 강수량 데이터 병합"
      ],
      "metadata": {
        "id": "48eyib7wpx1p"
      }
    },
    {
      "cell_type": "code",
      "source": [
        "## 일자별 이용량과 강수량 데이터 병합 (daily_usage_gf의 기준_날짜, rain_df의 일시를 기준으로 결합)\n",
        "\n",
        "## 'count' 컬럼명 '이용량'으로 변경\n",
        "merged_df.rename(columns={'count': '이용량'}, inplace=True)\n",
        "## 병합된 데이터프레임 상위 5행 출력\n",
        "merged_df.head(5)"
      ],
      "metadata": {
        "id": "zRaUqhct-nWK"
      },
      "execution_count": null,
      "outputs": []
    },
    {
      "cell_type": "markdown",
      "source": [
        "## 12-13 이용량 및 강수량 시각화"
      ],
      "metadata": {
        "id": "0mT2QZYMrswf"
      }
    },
    {
      "cell_type": "code",
      "source": [
        "## 두 개의 y축을 가진 서브플롯 생성\n",
        "fig, ax1 = plt.subplots()\n",
        "ax2 = ax1.twinx() ## 두 번째 y축 생성\n",
        "\n",
        "## 첫 번째 y축에 이용량 막대 그래프 그리기\n",
        "\n",
        "## 두 번째 y축에 강수량 꺾은선 그래프 그리기\n",
        "\n",
        "\n",
        "## x축 및 y축 레이블 설정\n",
        "ax1.set_xlabel('날짜')\n",
        "ax1.set_ylabel('이용량', color='b')\n",
        "ax2.set_ylabel('강수량(mm)', color='r')\n",
        "\n",
        "## 그래프 표시\n",
        "plt.show()"
      ],
      "metadata": {
        "id": "-Yi03lPp-o6o"
      },
      "execution_count": null,
      "outputs": []
    },
    {
      "cell_type": "markdown",
      "source": [
        "## 12-14 강수량과 이용량 상관관계 분석"
      ],
      "metadata": {
        "id": "qbYAcr8or8dL"
      }
    },
    {
      "cell_type": "code",
      "source": [
        "import seaborn as sns ## seaborn 라이브러리 임포트\n",
        "\n",
        "## 강수량이 있는 날만 필터링\n",
        "merged_onlyrain_df = merged_df[merged_df['강수량(mm)'] > 0]\n",
        "## 강수량과 이용량의 상관계수 계산\n",
        "corr = merged_onlyrain_df['이용량'].corr(merged_onlyrain_df['강수량(mm)'])\n",
        "## 상관계수 출력\n",
        "print(\"강수량과 이용량의 상관계수:\", corr)\n",
        "\n",
        "## 강수량과 이용량의 회귀선 그래프 생성\n",
        "\n",
        "\n",
        "## y축 범위 설정\n",
        "plt.ylim(0, merged_onlyrain_df['이용량'].max()*1.1)\n",
        "\n",
        "## 그래프 제목 및 축 레이블 설정\n",
        "plt.title(f'강수량과 이용량 상관관계 (r = {corr:.2f})')\n",
        "plt.xlabel('강수량 (mm)')\n",
        "plt.ylabel('이용 건수')\n",
        "## 그래프 표시\n",
        "plt.show()"
      ],
      "metadata": {
        "id": "X5VeveZu-rOA"
      },
      "execution_count": null,
      "outputs": []
    },
    {
      "cell_type": "markdown",
      "source": [
        "## 12-15 OLS 회귀 모델 생성 및 분석 및 귀무가설 검증"
      ],
      "metadata": {
        "id": "wE8Ndc3UsISd"
      }
    },
    {
      "cell_type": "code",
      "source": [
        "import statsmodels.formula.api as smf ## statsmodels.formula.api 임포트\n",
        "\n",
        "## 컬럼명 변경: '강수량(mm)' -> '강수량_mm' (formula API 호환을 위해)\n",
        "merged_onlyrain_df = merged_onlyrain_df.copy()\n",
        "merged_onlyrain_df.rename(columns={'강수량(mm)': '강수량_mm'}, inplace=True)\n",
        "\n",
        "## OLS 모델 정의 및 학습\n",
        "\n",
        "results = model.fit()\n",
        "\n",
        "## 모델 요약 결과 출력\n",
        "print(results.summary())\n",
        "\n",
        "## 귀무가설 검증 해석\n",
        "## 강수량_mm 계수에 대한 p-value를 확인하여 귀무가설 (강수량이 이용량에 미치는 영향이 0이다) 검증\n",
        "## 일반적으로 p-value가 0.05 미만이면 귀무가설을 기각하고 유의미한 영향이 있다고 해석\n",
        "print(\"\\n--- 귀무가설 검증 (강수량 계수) ---\")\n",
        "p_value = results.pvalues['강수량_mm']\n",
        "print(f\"강수량_mm 계수의 p-value: {p_value:.4f}\")\n",
        "if p_value < 0.05:\n",
        "    print(\"p-value가 0.05보다 작으므로 귀무가설을 기각합니다.\")\n",
        "    print(\"즉, 강수량은 자전거 이용량에 통계적으로 유의미한 영향을 미칩니다.\")\n",
        "else:\n",
        "    print(\"p-value가 0.05보다 크므로 귀무가설을 기각할 수 없습니다.\")\n",
        "    print(\"즉, 강수량은 자전거 이용량에 통계적으로 유의미한 영향을 미치지 않는다고 볼 수 있습니다.\")"
      ],
      "metadata": {
        "id": "YGV-JoF9sHdt"
      },
      "execution_count": null,
      "outputs": []
    }
  ]
}